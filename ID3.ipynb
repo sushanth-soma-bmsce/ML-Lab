{
 "cells": [
  {
   "cell_type": "code",
   "execution_count": 1,
   "id": "3228916f",
   "metadata": {
    "execution": {
     "iopub.execute_input": "2023-04-29T04:54:01.921112Z",
     "iopub.status.busy": "2023-04-29T04:54:01.920020Z",
     "iopub.status.idle": "2023-04-29T04:54:01.933001Z",
     "shell.execute_reply": "2023-04-29T04:54:01.931946Z"
    },
    "papermill": {
     "duration": 0.022427,
     "end_time": "2023-04-29T04:54:01.935608",
     "exception": false,
     "start_time": "2023-04-29T04:54:01.913181",
     "status": "completed"
    },
    "tags": []
   },
   "outputs": [],
   "source": [
    "import math\n",
    "import csv"
   ]
  },
  {
   "cell_type": "code",
   "execution_count": 2,
   "id": "0f6b1887",
   "metadata": {
    "execution": {
     "iopub.execute_input": "2023-04-29T04:54:01.944609Z",
     "iopub.status.busy": "2023-04-29T04:54:01.943964Z",
     "iopub.status.idle": "2023-04-29T04:54:01.950222Z",
     "shell.execute_reply": "2023-04-29T04:54:01.949371Z"
    },
    "papermill": {
     "duration": 0.013244,
     "end_time": "2023-04-29T04:54:01.952512",
     "exception": false,
     "start_time": "2023-04-29T04:54:01.939268",
     "status": "completed"
    },
    "tags": []
   },
   "outputs": [],
   "source": [
    "def load_csv(filename):\n",
    "    lines=csv.reader(open(filename,\"r\"))\n",
    "    dataset = list(lines)\n",
    "    headers = dataset.pop(0)\n",
    "    return dataset,headers\n",
    "\n",
    "class Node:\n",
    "    def __init__(self,attribute):\n",
    "        self.attribute=attribute\n",
    "        self.children=[]\n",
    "        self.answer=\"\""
   ]
  },
  {
   "cell_type": "code",
   "execution_count": 3,
   "id": "9a7450a9",
   "metadata": {
    "execution": {
     "iopub.execute_input": "2023-04-29T04:54:01.962737Z",
     "iopub.status.busy": "2023-04-29T04:54:01.961826Z",
     "iopub.status.idle": "2023-04-29T04:54:01.972552Z",
     "shell.execute_reply": "2023-04-29T04:54:01.971508Z"
    },
    "papermill": {
     "duration": 0.019404,
     "end_time": "2023-04-29T04:54:01.975420",
     "exception": false,
     "start_time": "2023-04-29T04:54:01.956016",
     "status": "completed"
    },
    "tags": []
   },
   "outputs": [],
   "source": [
    "def subtables(data,col,delete):\n",
    "    dic={}\n",
    "    coldata=[row[col] for row in data]\n",
    "    attr=list(set(coldata))\n",
    "    \n",
    "    counts=[0]*len(attr)\n",
    "    r=len(data)\n",
    "    c=len(data[0])\n",
    "    for x in range(len(attr)):\n",
    "        for y in range(r):\n",
    "            if data[y][col]==attr[x]:\n",
    "                counts[x]+=1\n",
    "        \n",
    "    for x in range(len(attr)):\n",
    "        dic[attr[x]]=[[0 for i in range(c)] for j in range(counts[x])]\n",
    "        pos=0\n",
    "        for y in range(r):\n",
    "            if data[y][col]==attr[x]:\n",
    "                if delete:\n",
    "                    del data[y][col]\n",
    "                dic[attr[x]][pos]=data[y]\n",
    "                pos+=1\n",
    "    return attr,dic"
   ]
  },
  {
   "cell_type": "code",
   "execution_count": 4,
   "id": "755d5efb",
   "metadata": {
    "execution": {
     "iopub.execute_input": "2023-04-29T04:54:01.983740Z",
     "iopub.status.busy": "2023-04-29T04:54:01.983348Z",
     "iopub.status.idle": "2023-04-29T04:54:01.990196Z",
     "shell.execute_reply": "2023-04-29T04:54:01.989153Z"
    },
    "papermill": {
     "duration": 0.013659,
     "end_time": "2023-04-29T04:54:01.992513",
     "exception": false,
     "start_time": "2023-04-29T04:54:01.978854",
     "status": "completed"
    },
    "tags": []
   },
   "outputs": [],
   "source": [
    "def entropy(S):\n",
    "    attr=list(set(S))\n",
    "    if len(attr)==1:\n",
    "        return 0\n",
    "    \n",
    "    counts=[0,0]\n",
    "    for i in range(2):\n",
    "        counts[i]=sum([1 for x in S if attr[i]==x])/(len(S)*1.0)\n",
    "    \n",
    "    sums=0\n",
    "    for cnt in counts:\n",
    "        sums+=-1*cnt*math.log(cnt,2)\n",
    "    return sums"
   ]
  },
  {
   "cell_type": "code",
   "execution_count": 5,
   "id": "3ff5bcf6",
   "metadata": {
    "execution": {
     "iopub.execute_input": "2023-04-29T04:54:02.000453Z",
     "iopub.status.busy": "2023-04-29T04:54:02.000063Z",
     "iopub.status.idle": "2023-04-29T04:54:02.008199Z",
     "shell.execute_reply": "2023-04-29T04:54:02.007017Z"
    },
    "papermill": {
     "duration": 0.014617,
     "end_time": "2023-04-29T04:54:02.010488",
     "exception": false,
     "start_time": "2023-04-29T04:54:01.995871",
     "status": "completed"
    },
    "tags": []
   },
   "outputs": [],
   "source": [
    "def compute_gain(data,col):\n",
    "    attr,dic = subtables(data,col,delete=False)\n",
    "    \n",
    "    total_size=len(data)\n",
    "    entropies=[0]*len(attr)\n",
    "    ratio=[0]*len(attr)\n",
    "    \n",
    "    total_entropy=entropy([row[-1] for row in data])\n",
    "    for x in range(len(attr)):\n",
    "        ratio[x]=len(dic[attr[x]])/(total_size*1.0)\n",
    "        entropies[x]=entropy([row[-1] for row in dic[attr[x]]])\n",
    "        total_entropy-=ratio[x]*entropies[x]\n",
    "    return total_entropy"
   ]
  },
  {
   "cell_type": "code",
   "execution_count": 6,
   "id": "c4dc62fc",
   "metadata": {
    "execution": {
     "iopub.execute_input": "2023-04-29T04:54:02.019699Z",
     "iopub.status.busy": "2023-04-29T04:54:02.018429Z",
     "iopub.status.idle": "2023-04-29T04:54:02.028391Z",
     "shell.execute_reply": "2023-04-29T04:54:02.027261Z"
    },
    "papermill": {
     "duration": 0.017004,
     "end_time": "2023-04-29T04:54:02.030871",
     "exception": false,
     "start_time": "2023-04-29T04:54:02.013867",
     "status": "completed"
    },
    "tags": []
   },
   "outputs": [],
   "source": [
    "def build_tree(data,features):\n",
    "    lastcol=[row[-1] for row in data]\n",
    "    if(len(set(lastcol)))==1:\n",
    "        node=Node(\"\")\n",
    "        node.answer=lastcol[0]\n",
    "        return node\n",
    "    \n",
    "    n=len(data[0])-1\n",
    "    gains=[0]*n\n",
    "    for col in range(n):\n",
    "        gains[col]=compute_gain(data,col)\n",
    "    split=gains.index(max(gains))\n",
    "    node=Node(features[split])\n",
    "    fea = features[:split]+features[split+1:]\n",
    "\n",
    "    \n",
    "    attr,dic=subtables(data,split,delete=True)\n",
    "    \n",
    "    for x in range(len(attr)):\n",
    "        child=build_tree(dic[attr[x]],fea)\n",
    "        node.children.append((attr[x],child))\n",
    "    return node"
   ]
  },
  {
   "cell_type": "code",
   "execution_count": 7,
   "id": "c51cba5d",
   "metadata": {
    "execution": {
     "iopub.execute_input": "2023-04-29T04:54:02.040116Z",
     "iopub.status.busy": "2023-04-29T04:54:02.038996Z",
     "iopub.status.idle": "2023-04-29T04:54:02.045471Z",
     "shell.execute_reply": "2023-04-29T04:54:02.044541Z"
    },
    "papermill": {
     "duration": 0.013481,
     "end_time": "2023-04-29T04:54:02.047668",
     "exception": false,
     "start_time": "2023-04-29T04:54:02.034187",
     "status": "completed"
    },
    "tags": []
   },
   "outputs": [],
   "source": [
    "def print_tree(node,level):\n",
    "    if node.answer!=\"\":\n",
    "        print(\"  \"*level,node.answer)\n",
    "        return\n",
    "    \n",
    "    print(\"  \"*level,node.attribute)\n",
    "    for value,n in node.children:\n",
    "        print(\"  \"*(level+1),value)\n",
    "        print_tree(n,level+2)"
   ]
  },
  {
   "cell_type": "code",
   "execution_count": 8,
   "id": "17141b2f",
   "metadata": {
    "execution": {
     "iopub.execute_input": "2023-04-29T04:54:02.056140Z",
     "iopub.status.busy": "2023-04-29T04:54:02.055232Z",
     "iopub.status.idle": "2023-04-29T04:54:02.061321Z",
     "shell.execute_reply": "2023-04-29T04:54:02.060449Z"
    },
    "papermill": {
     "duration": 0.012391,
     "end_time": "2023-04-29T04:54:02.063400",
     "exception": false,
     "start_time": "2023-04-29T04:54:02.051009",
     "status": "completed"
    },
    "tags": []
   },
   "outputs": [],
   "source": [
    "def classify(node,x_test,features):\n",
    "    if node.answer!=\"\":\n",
    "        print(node.answer)\n",
    "        return\n",
    "    pos=features.index(node.attribute)\n",
    "    for value, n in node.children:\n",
    "        if x_test[pos]==value:\n",
    "            classify(n,x_test,features)"
   ]
  },
  {
   "cell_type": "code",
   "execution_count": 9,
   "id": "5826c0a9",
   "metadata": {
    "execution": {
     "iopub.execute_input": "2023-04-29T04:54:02.071962Z",
     "iopub.status.busy": "2023-04-29T04:54:02.071152Z",
     "iopub.status.idle": "2023-04-29T04:54:02.096976Z",
     "shell.execute_reply": "2023-04-29T04:54:02.095538Z"
    },
    "papermill": {
     "duration": 0.033986,
     "end_time": "2023-04-29T04:54:02.100688",
     "exception": false,
     "start_time": "2023-04-29T04:54:02.066702",
     "status": "completed"
    },
    "tags": []
   },
   "outputs": [
    {
     "name": "stdout",
     "output_type": "stream",
     "text": [
      "The decision tree for the dataset using ID3 algorithm is\n",
      " Outlook\n",
      "   rain\n",
      "     Wind\n",
      "       weak\n",
      "         yes\n",
      "       strong\n",
      "         no\n",
      "   overcast\n",
      "     yes\n",
      "   sunny\n",
      "     Humidity\n",
      "       high\n",
      "         no\n",
      "       normal\n",
      "         yes\n",
      "The test instance: ['rain', 'cool', 'normal', 'strong']\n",
      "The label for test instance:\n",
      "no\n",
      "The test instance: ['sunny', 'mild', 'normal', 'strong']\n",
      "The label for test instance:\n",
      "yes\n"
     ]
    }
   ],
   "source": [
    "dataset,features=load_csv(\"/kaggle/input/d/padmanjali/play-tennis/playtennis.csv\")\n",
    "node1=build_tree(dataset,features)\n",
    "\n",
    "print(\"The decision tree for the dataset using ID3 algorithm is\")\n",
    "print_tree(node1,0)\n",
    "testdata,features=load_csv(\"/kaggle/input/d/padmanjali/play-tennis/playTennis_test.csv\")\n",
    "\n",
    "for xtest in testdata:\n",
    "    print(\"The test instance:\",xtest)\n",
    "    print(\"The label for test instance:\")\n",
    "    classify(node1,xtest,features)"
   ]
  }
 ],
 "metadata": {
  "kernelspec": {
   "display_name": "Python 3",
   "language": "python",
   "name": "python3"
  },
  "language_info": {
   "codemirror_mode": {
    "name": "ipython",
    "version": 3
   },
   "file_extension": ".py",
   "mimetype": "text/x-python",
   "name": "python",
   "nbconvert_exporter": "python",
   "pygments_lexer": "ipython3",
   "version": "3.7.12"
  },
  "papermill": {
   "default_parameters": {},
   "duration": 11.492554,
   "end_time": "2023-04-29T04:54:02.932311",
   "environment_variables": {},
   "exception": null,
   "input_path": "__notebook__.ipynb",
   "output_path": "__notebook__.ipynb",
   "parameters": {},
   "start_time": "2023-04-29T04:53:51.439757",
   "version": "2.4.0"
  }
 },
 "nbformat": 4,
 "nbformat_minor": 5
}
