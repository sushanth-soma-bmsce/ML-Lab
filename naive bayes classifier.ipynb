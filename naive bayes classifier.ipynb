{
 "cells": [
  {
   "cell_type": "markdown",
   "id": "adc0e1e1",
   "metadata": {
    "papermill": {
     "duration": 0.004486,
     "end_time": "2023-06-10T04:50:19.337634",
     "exception": false,
     "start_time": "2023-06-10T04:50:19.333148",
     "status": "completed"
    },
    "tags": []
   },
   "source": [
    "Naive Bayes - Play Tennis Dataset "
   ]
  },
  {
   "cell_type": "code",
   "execution_count": 1,
   "id": "c7d34f67",
   "metadata": {
    "execution": {
     "iopub.execute_input": "2023-06-10T04:50:19.348537Z",
     "iopub.status.busy": "2023-06-10T04:50:19.347839Z",
     "iopub.status.idle": "2023-06-10T04:50:19.358240Z",
     "shell.execute_reply": "2023-06-10T04:50:19.357275Z"
    },
    "papermill": {
     "duration": 0.018432,
     "end_time": "2023-06-10T04:50:19.360657",
     "exception": false,
     "start_time": "2023-06-10T04:50:19.342225",
     "status": "completed"
    },
    "tags": []
   },
   "outputs": [],
   "source": [
    "import numpy as np\n",
    "import pandas as pd"
   ]
  },
  {
   "cell_type": "code",
   "execution_count": 2,
   "id": "62621295",
   "metadata": {
    "execution": {
     "iopub.execute_input": "2023-06-10T04:50:19.370781Z",
     "iopub.status.busy": "2023-06-10T04:50:19.370375Z",
     "iopub.status.idle": "2023-06-10T04:50:19.418095Z",
     "shell.execute_reply": "2023-06-10T04:50:19.416991Z"
    },
    "papermill": {
     "duration": 0.055731,
     "end_time": "2023-06-10T04:50:19.420455",
     "exception": false,
     "start_time": "2023-06-10T04:50:19.364724",
     "status": "completed"
    },
    "tags": []
   },
   "outputs": [
    {
     "data": {
      "text/html": [
       "<div>\n",
       "<style scoped>\n",
       "    .dataframe tbody tr th:only-of-type {\n",
       "        vertical-align: middle;\n",
       "    }\n",
       "\n",
       "    .dataframe tbody tr th {\n",
       "        vertical-align: top;\n",
       "    }\n",
       "\n",
       "    .dataframe thead th {\n",
       "        text-align: right;\n",
       "    }\n",
       "</style>\n",
       "<table border=\"1\" class=\"dataframe\">\n",
       "  <thead>\n",
       "    <tr style=\"text-align: right;\">\n",
       "      <th></th>\n",
       "      <th>Outlook</th>\n",
       "      <th>Temperature</th>\n",
       "      <th>Humidity</th>\n",
       "      <th>Wind</th>\n",
       "      <th>Answer</th>\n",
       "    </tr>\n",
       "  </thead>\n",
       "  <tbody>\n",
       "    <tr>\n",
       "      <th>0</th>\n",
       "      <td>sunny</td>\n",
       "      <td>hot</td>\n",
       "      <td>high</td>\n",
       "      <td>weak</td>\n",
       "      <td>no</td>\n",
       "    </tr>\n",
       "    <tr>\n",
       "      <th>1</th>\n",
       "      <td>sunny</td>\n",
       "      <td>hot</td>\n",
       "      <td>high</td>\n",
       "      <td>strong</td>\n",
       "      <td>no</td>\n",
       "    </tr>\n",
       "    <tr>\n",
       "      <th>2</th>\n",
       "      <td>overcast</td>\n",
       "      <td>hot</td>\n",
       "      <td>high</td>\n",
       "      <td>weak</td>\n",
       "      <td>yes</td>\n",
       "    </tr>\n",
       "    <tr>\n",
       "      <th>3</th>\n",
       "      <td>rain</td>\n",
       "      <td>mild</td>\n",
       "      <td>high</td>\n",
       "      <td>weak</td>\n",
       "      <td>yes</td>\n",
       "    </tr>\n",
       "    <tr>\n",
       "      <th>4</th>\n",
       "      <td>rain</td>\n",
       "      <td>cool</td>\n",
       "      <td>normal</td>\n",
       "      <td>weak</td>\n",
       "      <td>yes</td>\n",
       "    </tr>\n",
       "  </tbody>\n",
       "</table>\n",
       "</div>"
      ],
      "text/plain": [
       "    Outlook Temperature Humidity    Wind Answer\n",
       "0     sunny         hot     high    weak     no\n",
       "1     sunny         hot     high  strong     no\n",
       "2  overcast         hot     high    weak    yes\n",
       "3      rain        mild     high    weak    yes\n",
       "4      rain        cool   normal    weak    yes"
      ]
     },
     "execution_count": 2,
     "metadata": {},
     "output_type": "execute_result"
    }
   ],
   "source": [
    "data = pd.read_csv('/kaggle/input/play-tennis/playtennis.csv')\n",
    "data.head()"
   ]
  },
  {
   "cell_type": "code",
   "execution_count": 3,
   "id": "00a42ed5",
   "metadata": {
    "execution": {
     "iopub.execute_input": "2023-06-10T04:50:19.430556Z",
     "iopub.status.busy": "2023-06-10T04:50:19.430169Z",
     "iopub.status.idle": "2023-06-10T04:50:19.436932Z",
     "shell.execute_reply": "2023-06-10T04:50:19.436123Z"
    },
    "papermill": {
     "duration": 0.01483,
     "end_time": "2023-06-10T04:50:19.439504",
     "exception": false,
     "start_time": "2023-06-10T04:50:19.424674",
     "status": "completed"
    },
    "tags": []
   },
   "outputs": [
    {
     "name": "stdout",
     "output_type": "stream",
     "text": [
      "Target Values: ['no', 'no', 'yes', 'yes', 'yes', 'no', 'yes', 'no', 'yes', 'yes', 'yes', 'yes', 'yes', 'no']\n",
      "Features: \n",
      "[['sunny' 'hot' 'high' 'weak']\n",
      " ['sunny' 'hot' 'high' 'strong']\n",
      " ['overcast' 'hot' 'high' 'weak']\n",
      " ['rain' 'mild' 'high' 'weak']\n",
      " ['rain' 'cool' 'normal' 'weak']\n",
      " ['rain' 'cool' 'normal' 'strong']\n",
      " ['overcast' 'cool' 'normal' 'strong']\n",
      " ['sunny' 'mild' 'high' 'weak']\n",
      " ['sunny' 'cool' 'normal' 'weak']\n",
      " ['rain' 'mild' 'normal' 'weak']\n",
      " ['sunny' 'mild' 'normal' 'strong']\n",
      " ['overcast' 'mild' 'high' 'strong']\n",
      " ['overcast' 'hot' 'normal' 'weak']\n",
      " ['rain' 'mild' 'high' 'strong']]\n"
     ]
    }
   ],
   "source": [
    "y = list(data['Answer'].values)\n",
    "X = data.iloc[:,:-1].values\n",
    "print(f'Target Values: {y}')\n",
    "print(f'Features: \\n{X}')\n"
   ]
  },
  {
   "cell_type": "code",
   "execution_count": 4,
   "id": "cd196da0",
   "metadata": {
    "execution": {
     "iopub.execute_input": "2023-06-10T04:50:19.450275Z",
     "iopub.status.busy": "2023-06-10T04:50:19.449465Z",
     "iopub.status.idle": "2023-06-10T04:50:19.455092Z",
     "shell.execute_reply": "2023-06-10T04:50:19.454247Z"
    },
    "papermill": {
     "duration": 0.013739,
     "end_time": "2023-06-10T04:50:19.457713",
     "exception": false,
     "start_time": "2023-06-10T04:50:19.443974",
     "status": "completed"
    },
    "tags": []
   },
   "outputs": [
    {
     "name": "stdout",
     "output_type": "stream",
     "text": [
      "Number of instances in training set: 8\n",
      "Number of instances in testing set: 6\n"
     ]
    }
   ],
   "source": [
    "y_train = y[:8]\n",
    "y_val = y[8:]\n",
    "X_train = X[:8]\n",
    "X_val = X[8:]\n",
    "print(f\"Number of instances in training set: {len(X_train)}\")\n",
    "print(f\"Number of instances in testing set: {len(X_val)}\")"
   ]
  },
  {
   "cell_type": "code",
   "execution_count": 5,
   "id": "6bce18a8",
   "metadata": {
    "execution": {
     "iopub.execute_input": "2023-06-10T04:50:19.468809Z",
     "iopub.status.busy": "2023-06-10T04:50:19.468421Z",
     "iopub.status.idle": "2023-06-10T04:50:19.482306Z",
     "shell.execute_reply": "2023-06-10T04:50:19.481077Z"
    },
    "papermill": {
     "duration": 0.022499,
     "end_time": "2023-06-10T04:50:19.484724",
     "exception": false,
     "start_time": "2023-06-10T04:50:19.462225",
     "status": "completed"
    },
    "tags": []
   },
   "outputs": [],
   "source": [
    "class NaiveBayesClassifier:   \n",
    "    def __init__(self, X, y):\n",
    "        self.X, self.y = X, y \n",
    "        self.N = len(self.X)\n",
    "        self.dim = len(self.X[0]) \n",
    "        self.attrs = [[] for _ in range(self.dim)] \n",
    "        self.output_dom = {} \n",
    "        self.data = []     \n",
    "        for i in range(len(self.X)):\n",
    "            for j in range(self.dim):\n",
    "                if not self.X[i][j] in self.attrs[j]:\n",
    "                    self.attrs[j].append(self.X[i][j])         \n",
    "            if not self.y[i] in self.output_dom.keys():\n",
    "                self.output_dom[self.y[i]] = 1\n",
    "            else:\n",
    "                self.output_dom[self.y[i]] += 1\n",
    "            self.data.append([self.X[i], self.y[i]])\n",
    "    def classify(self, entry):\n",
    "        solve = None \n",
    "        max_arg = -1\n",
    "        for y in self.output_dom.keys():\n",
    "            prob = self.output_dom[y]/self.N \n",
    "            for i in range(self.dim):\n",
    "                cases = [x for x in self.data if x[0][i] == entry[i] and x[1] == y] \n",
    "                n = len(cases)\n",
    "                prob *= n/self.N     \n",
    "            if prob > max_arg:\n",
    "                max_arg = prob\n",
    "                solve = y\n",
    "        return solve"
   ]
  },
  {
   "cell_type": "code",
   "execution_count": 6,
   "id": "187b209b",
   "metadata": {
    "execution": {
     "iopub.execute_input": "2023-06-10T04:50:19.495697Z",
     "iopub.status.busy": "2023-06-10T04:50:19.495331Z",
     "iopub.status.idle": "2023-06-10T04:50:19.504542Z",
     "shell.execute_reply": "2023-06-10T04:50:19.503221Z"
    },
    "papermill": {
     "duration": 0.017623,
     "end_time": "2023-06-10T04:50:19.506940",
     "exception": false,
     "start_time": "2023-06-10T04:50:19.489317",
     "status": "completed"
    },
    "tags": []
   },
   "outputs": [
    {
     "name": "stdout",
     "output_type": "stream",
     "text": [
      "Predicted values: ['no', 'yes', 'no', 'yes', 'yes', 'no']\n",
      "Actual values: ['yes', 'yes', 'yes', 'yes', 'yes', 'no']\n",
      "\n",
      "Total number of testing instances in the dataset: 6\n",
      "Number of correct predictions: 4\n",
      "Number of wrong predictions: 2\n",
      "\n",
      "Accuracy of Bayes Classifier: 0.6666666666666666\n"
     ]
    }
   ],
   "source": [
    "nbc = NaiveBayesClassifier(X_train, y_train)\n",
    "total_cases = len(y_val)\n",
    "correct = 0\n",
    "wrong = 0\n",
    "predictions = []\n",
    "for i in range(total_cases):\n",
    "    predict = nbc.classify(X_val[i])\n",
    "    predictions.append(predict)\n",
    "    if y_val[i] == predict:\n",
    "        correct += 1\n",
    "    else:\n",
    "        wrong += 1\n",
    "print('Predicted values:', predictions)\n",
    "print('Actual values:', y_val)\n",
    "print()\n",
    "print('Total number of testing instances in the dataset:', total_cases)\n",
    "print('Number of correct predictions:', correct)\n",
    "print('Number of wrong predictions:', wrong)\n",
    "print()\n",
    "print('Accuracy of Bayes Classifier:', correct/total_cases)"
   ]
  },
  {
   "cell_type": "markdown",
   "id": "76d52ab6",
   "metadata": {
    "papermill": {
     "duration": 0.004263,
     "end_time": "2023-06-10T04:50:19.515771",
     "exception": false,
     "start_time": "2023-06-10T04:50:19.511508",
     "status": "completed"
    },
    "tags": []
   },
   "source": [
    "Naive Bayes - Pima Indian Diabetes Dataset\n"
   ]
  },
  {
   "cell_type": "code",
   "execution_count": 7,
   "id": "f47b5ad4",
   "metadata": {
    "execution": {
     "iopub.execute_input": "2023-06-10T04:50:19.526382Z",
     "iopub.status.busy": "2023-06-10T04:50:19.525971Z",
     "iopub.status.idle": "2023-06-10T04:50:21.004112Z",
     "shell.execute_reply": "2023-06-10T04:50:21.002975Z"
    },
    "papermill": {
     "duration": 1.486885,
     "end_time": "2023-06-10T04:50:21.007052",
     "exception": false,
     "start_time": "2023-06-10T04:50:19.520167",
     "status": "completed"
    },
    "tags": []
   },
   "outputs": [
    {
     "name": "stdout",
     "output_type": "stream",
     "text": [
      "<bound method NDFrame.head of      Pregnancies  Glucose  BloodPressure  SkinThickness  Insulin   BMI  \\\n",
      "0              6      148             72             35        0  33.6   \n",
      "1              1       85             66             29        0  26.6   \n",
      "2              8      183             64              0        0  23.3   \n",
      "3              1       89             66             23       94  28.1   \n",
      "4              0      137             40             35      168  43.1   \n",
      "..           ...      ...            ...            ...      ...   ...   \n",
      "763           10      101             76             48      180  32.9   \n",
      "764            2      122             70             27        0  36.8   \n",
      "765            5      121             72             23      112  26.2   \n",
      "766            1      126             60              0        0  30.1   \n",
      "767            1       93             70             31        0  30.4   \n",
      "\n",
      "     DiabetesPedigreeFunction  Age  Outcome  \n",
      "0                       0.627   50        1  \n",
      "1                       0.351   31        0  \n",
      "2                       0.672   32        1  \n",
      "3                       0.167   21        0  \n",
      "4                       2.288   33        1  \n",
      "..                        ...  ...      ...  \n",
      "763                     0.171   63        0  \n",
      "764                     0.340   27        0  \n",
      "765                     0.245   30        0  \n",
      "766                     0.349   47        1  \n",
      "767                     0.315   23        0  \n",
      "\n",
      "[768 rows x 9 columns]>\n",
      "\n",
      "The total number of Training Data: (514, 1)\n",
      "The total number of Test Data: (254, 1)\n"
     ]
    }
   ],
   "source": [
    "from sklearn.model_selection import train_test_split\n",
    "from sklearn.naive_bayes import GaussianNB\n",
    "from sklearn import metrics\n",
    "\n",
    "df = pd.read_csv(\"/kaggle/input/pima-indians-diabetes-database/diabetes.csv\")\n",
    "feature_col_names = ['Pregnancies', 'Glucose', 'BloodPressure', 'SkinThickness', 'Insulin', 'BMI', 'DiabetesPedigreeFunction', 'Age']\n",
    "predicted_class_names = ['Outcome']\n",
    "X = df[feature_col_names].values \n",
    "y = df[predicted_class_names].values\n",
    "print(df.head)\n",
    "xtrain,xtest,ytrain,ytest=train_test_split(X,y,test_size=0.33)\n",
    "print ('\\nThe total number of Training Data:',ytrain.shape)\n",
    "print ('The total number of Test Data:',ytest.shape)"
   ]
  },
  {
   "cell_type": "code",
   "execution_count": 8,
   "id": "caa88622",
   "metadata": {
    "execution": {
     "iopub.execute_input": "2023-06-10T04:50:21.018372Z",
     "iopub.status.busy": "2023-06-10T04:50:21.017986Z",
     "iopub.status.idle": "2023-06-10T04:50:21.036130Z",
     "shell.execute_reply": "2023-06-10T04:50:21.035143Z"
    },
    "papermill": {
     "duration": 0.027496,
     "end_time": "2023-06-10T04:50:21.039346",
     "exception": false,
     "start_time": "2023-06-10T04:50:21.011850",
     "status": "completed"
    },
    "tags": []
   },
   "outputs": [
    {
     "name": "stdout",
     "output_type": "stream",
     "text": [
      "\n",
      "Confusion matrix\n",
      "[[130  35]\n",
      " [ 35  54]]\n",
      "\n",
      "Accuracy of the classifier: 0.7244094488188977\n",
      "The value of Precision: 0.6067415730337079\n",
      "The value of Recall: 0.6067415730337079\n",
      "Predicted Value for individual Test Data: [1]\n"
     ]
    }
   ],
   "source": [
    "clf = GaussianNB().fit(xtrain,ytrain.ravel())\n",
    "predicted = clf.predict(xtest)\n",
    "predictTestData= clf.predict([[6,148,72,35,0,33.6,0.627,50]])\n",
    "print('\\nConfusion matrix')\n",
    "print(metrics.confusion_matrix(ytest,predicted))\n",
    "print('\\nAccuracy of the classifier:',metrics.accuracy_score(ytest,predicted))\n",
    "print('The value of Precision:', metrics.precision_score(ytest,predicted))\n",
    "print('The value of Recall:', metrics.recall_score(ytest,predicted))\n",
    "print(\"Predicted Value for individual Test Data:\", predictTestData)"
   ]
  }
 ],
 "metadata": {
  "kernelspec": {
   "display_name": "Python 3",
   "language": "python",
   "name": "python3"
  },
  "language_info": {
   "codemirror_mode": {
    "name": "ipython",
    "version": 3
   },
   "file_extension": ".py",
   "mimetype": "text/x-python",
   "name": "python",
   "nbconvert_exporter": "python",
   "pygments_lexer": "ipython3",
   "version": "3.10.10"
  },
  "papermill": {
   "default_parameters": {},
   "duration": 14.813946,
   "end_time": "2023-06-10T04:50:21.966028",
   "environment_variables": {},
   "exception": null,
   "input_path": "__notebook__.ipynb",
   "output_path": "__notebook__.ipynb",
   "parameters": {},
   "start_time": "2023-06-10T04:50:07.152082",
   "version": "2.4.0"
  }
 },
 "nbformat": 4,
 "nbformat_minor": 5
}
