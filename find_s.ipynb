{
 "cells": [
  {
   "cell_type": "code",
   "execution_count": 1,
   "id": "8d3cc224",
   "metadata": {
    "_cell_guid": "b1076dfc-b9ad-4769-8c92-a6c4dae69d19",
    "_uuid": "8f2839f25d086af736a60e9eeb907d3b93b6e0e5",
    "execution": {
     "iopub.execute_input": "2023-04-15T16:02:02.476305Z",
     "iopub.status.busy": "2023-04-15T16:02:02.475305Z",
     "iopub.status.idle": "2023-04-15T16:02:02.502588Z",
     "shell.execute_reply": "2023-04-15T16:02:02.501272Z"
    },
    "papermill": {
     "duration": 0.037384,
     "end_time": "2023-04-15T16:02:02.505598",
     "exception": false,
     "start_time": "2023-04-15T16:02:02.468214",
     "status": "completed"
    },
    "tags": []
   },
   "outputs": [
    {
     "name": "stdout",
     "output_type": "stream",
     "text": [
      "/kaggle/input/purchase/purchase.csv\n",
      "/kaggle/input/enjoysport/ENJOYSPORT.csv\n"
     ]
    }
   ],
   "source": [
    "# This Python 3 environment comes with many helpful analytics libraries installed\n",
    "# It is defined by the kaggle/python Docker image: https://github.com/kaggle/docker-python\n",
    "# For example, here's several helpful packages to load\n",
    "\n",
    "import numpy as np # linear algebra\n",
    "import pandas as pd # data processing, CSV file I/O (e.g. pd.read_csv)\n",
    "\n",
    "# Input data files are available in the read-only \"../input/\" directory\n",
    "# For example, running this (by clicking run or pressing Shift+Enter) will list all files under the input directory\n",
    "\n",
    "import os\n",
    "for dirname, _, filenames in os.walk('/kaggle/input'):\n",
    "    for filename in filenames:\n",
    "        print(os.path.join(dirname, filename))\n",
    "\n",
    "# You can write up to 20GB to the current directory (/kaggle/working/) that gets preserved as output when you create a version using \"Save & Run All\" \n",
    "# You can also write temporary files to /kaggle/temp/, but they won't be saved outside of the current session"
   ]
  },
  {
   "cell_type": "markdown",
   "id": "77db0a84",
   "metadata": {
    "papermill": {
     "duration": 0.00363,
     "end_time": "2023-04-15T16:02:02.513334",
     "exception": false,
     "start_time": "2023-04-15T16:02:02.509704",
     "status": "completed"
    },
    "tags": []
   },
   "source": [
    "FIRST DATASET : Enjoysport Dataset"
   ]
  },
  {
   "cell_type": "code",
   "execution_count": 2,
   "id": "3d649afb",
   "metadata": {
    "execution": {
     "iopub.execute_input": "2023-04-15T16:02:02.523093Z",
     "iopub.status.busy": "2023-04-15T16:02:02.522649Z",
     "iopub.status.idle": "2023-04-15T16:02:02.556470Z",
     "shell.execute_reply": "2023-04-15T16:02:02.554843Z"
    },
    "papermill": {
     "duration": 0.042032,
     "end_time": "2023-04-15T16:02:02.559243",
     "exception": false,
     "start_time": "2023-04-15T16:02:02.517211",
     "status": "completed"
    },
    "tags": []
   },
   "outputs": [
    {
     "name": "stdout",
     "output_type": "stream",
     "text": [
      "     Sky AirTemp Humidity    Wind Water Forecast  EnjoySport\n",
      "0  Sunny    Warm   Normal  Strong  Warm     Same           1\n",
      "1  Sunny    Warm     High  Strong  Warm     Same           1\n",
      "2  Rainy    Cold     High  Strong  Warm   Change           0\n",
      "3  Sunny    Warm     High  Strong  Cool   Change           1\n"
     ]
    }
   ],
   "source": [
    "data = pd.read_csv(\"/kaggle/input/enjoysport/ENJOYSPORT.csv\")\n",
    "print(data)"
   ]
  },
  {
   "cell_type": "code",
   "execution_count": 3,
   "id": "38ad67af",
   "metadata": {
    "execution": {
     "iopub.execute_input": "2023-04-15T16:02:02.569090Z",
     "iopub.status.busy": "2023-04-15T16:02:02.568662Z",
     "iopub.status.idle": "2023-04-15T16:02:02.575582Z",
     "shell.execute_reply": "2023-04-15T16:02:02.573863Z"
    },
    "papermill": {
     "duration": 0.01533,
     "end_time": "2023-04-15T16:02:02.578509",
     "exception": false,
     "start_time": "2023-04-15T16:02:02.563179",
     "status": "completed"
    },
    "tags": []
   },
   "outputs": [
    {
     "name": "stdout",
     "output_type": "stream",
     "text": [
      "The attributes are: \n",
      " [['Sunny' 'Warm' 'Normal' 'Strong' 'Warm' 'Same']\n",
      " ['Sunny' 'Warm' 'High' 'Strong' 'Warm' 'Same']\n",
      " ['Rainy' 'Cold' 'High' 'Strong' 'Warm' 'Change']\n",
      " ['Sunny' 'Warm' 'High' 'Strong' 'Cool' 'Change']]\n"
     ]
    }
   ],
   "source": [
    "d = np.array(data)[:,:-1]\n",
    "print(\"The attributes are: \\n\",d)"
   ]
  },
  {
   "cell_type": "code",
   "execution_count": 4,
   "id": "73596309",
   "metadata": {
    "execution": {
     "iopub.execute_input": "2023-04-15T16:02:02.588472Z",
     "iopub.status.busy": "2023-04-15T16:02:02.588066Z",
     "iopub.status.idle": "2023-04-15T16:02:02.594538Z",
     "shell.execute_reply": "2023-04-15T16:02:02.593239Z"
    },
    "papermill": {
     "duration": 0.014769,
     "end_time": "2023-04-15T16:02:02.597306",
     "exception": false,
     "start_time": "2023-04-15T16:02:02.582537",
     "status": "completed"
    },
    "tags": []
   },
   "outputs": [
    {
     "name": "stdout",
     "output_type": "stream",
     "text": [
      "The target is: \n",
      " [1 1 0 1]\n"
     ]
    }
   ],
   "source": [
    "target = np.array(data)[:,-1]\n",
    "print(\"The target is: \\n\",target)"
   ]
  },
  {
   "cell_type": "code",
   "execution_count": 5,
   "id": "a96dfb12",
   "metadata": {
    "execution": {
     "iopub.execute_input": "2023-04-15T16:02:02.607559Z",
     "iopub.status.busy": "2023-04-15T16:02:02.607155Z",
     "iopub.status.idle": "2023-04-15T16:02:02.614613Z",
     "shell.execute_reply": "2023-04-15T16:02:02.613398Z"
    },
    "papermill": {
     "duration": 0.01583,
     "end_time": "2023-04-15T16:02:02.617147",
     "exception": false,
     "start_time": "2023-04-15T16:02:02.601317",
     "status": "completed"
    },
    "tags": []
   },
   "outputs": [],
   "source": [
    "def findS(c,t):\n",
    "    for i, val in enumerate(t):\n",
    "        if val == 1 or val == 'yes':\n",
    "            specific_hypothesis = c[i].copy()\n",
    "            break\n",
    "             \n",
    "    for i, val in enumerate(c):\n",
    "        if t[i] == 1 or t[i] == 'yes':\n",
    "            for x in range(len(specific_hypothesis)):\n",
    "                if val[x] != specific_hypothesis[x]:\n",
    "                    specific_hypothesis[x] = '?'\n",
    "                else:\n",
    "                    pass\n",
    "                 \n",
    "    return specific_hypothesis"
   ]
  },
  {
   "cell_type": "code",
   "execution_count": 6,
   "id": "89d7a57a",
   "metadata": {
    "execution": {
     "iopub.execute_input": "2023-04-15T16:02:02.627426Z",
     "iopub.status.busy": "2023-04-15T16:02:02.626975Z",
     "iopub.status.idle": "2023-04-15T16:02:02.633052Z",
     "shell.execute_reply": "2023-04-15T16:02:02.631662Z"
    },
    "papermill": {
     "duration": 0.014758,
     "end_time": "2023-04-15T16:02:02.635992",
     "exception": false,
     "start_time": "2023-04-15T16:02:02.621234",
     "status": "completed"
    },
    "tags": []
   },
   "outputs": [
    {
     "name": "stdout",
     "output_type": "stream",
     "text": [
      "The final hypothesis is: ['Sunny' 'Warm' '?' 'Strong' '?' '?']\n"
     ]
    }
   ],
   "source": [
    "print(\"The final hypothesis is:\",findS(d,target))"
   ]
  },
  {
   "cell_type": "markdown",
   "id": "6bba0486",
   "metadata": {
    "papermill": {
     "duration": 0.003686,
     "end_time": "2023-04-15T16:02:02.643723",
     "exception": false,
     "start_time": "2023-04-15T16:02:02.640037",
     "status": "completed"
    },
    "tags": []
   },
   "source": [
    "SECOND DATASET : Purchase Dataset"
   ]
  },
  {
   "cell_type": "code",
   "execution_count": 7,
   "id": "dd0304e0",
   "metadata": {
    "execution": {
     "iopub.execute_input": "2023-04-15T16:02:02.653988Z",
     "iopub.status.busy": "2023-04-15T16:02:02.653546Z",
     "iopub.status.idle": "2023-04-15T16:02:02.669721Z",
     "shell.execute_reply": "2023-04-15T16:02:02.668275Z"
    },
    "papermill": {
     "duration": 0.024621,
     "end_time": "2023-04-15T16:02:02.672340",
     "exception": false,
     "start_time": "2023-04-15T16:02:02.647719",
     "status": "completed"
    },
    "tags": []
   },
   "outputs": [
    {
     "name": "stdout",
     "output_type": "stream",
     "text": [
      "  citations    size inLibrary       price editions  buy\n",
      "0      some   small        no  affordable     many   no\n",
      "1      many     big        no   expensive      one  yes\n",
      "2      some     big    always   expensive      few   no\n",
      "3      many  medium        no   expensive     many  yes\n",
      "4      many   small        no  affordable     many  yes\n"
     ]
    }
   ],
   "source": [
    "data = pd.read_csv(\"/kaggle/input/purchase/purchase.csv\")\n",
    "print(data)"
   ]
  },
  {
   "cell_type": "code",
   "execution_count": 8,
   "id": "1fe7e4bc",
   "metadata": {
    "execution": {
     "iopub.execute_input": "2023-04-15T16:02:02.683574Z",
     "iopub.status.busy": "2023-04-15T16:02:02.682145Z",
     "iopub.status.idle": "2023-04-15T16:02:02.690420Z",
     "shell.execute_reply": "2023-04-15T16:02:02.688744Z"
    },
    "papermill": {
     "duration": 0.016426,
     "end_time": "2023-04-15T16:02:02.692954",
     "exception": false,
     "start_time": "2023-04-15T16:02:02.676528",
     "status": "completed"
    },
    "tags": []
   },
   "outputs": [
    {
     "name": "stdout",
     "output_type": "stream",
     "text": [
      "The attributes are: \n",
      " [['some' 'small' 'no' 'affordable' 'many']\n",
      " ['many' 'big' 'no' 'expensive' 'one']\n",
      " ['some' 'big' 'always' 'expensive' 'few']\n",
      " ['many' 'medium' 'no' 'expensive' 'many']\n",
      " ['many' 'small' 'no' 'affordable' 'many']]\n"
     ]
    }
   ],
   "source": [
    "d = np.array(data)[:,:-1]\n",
    "print(\"The attributes are: \\n\",d)"
   ]
  },
  {
   "cell_type": "code",
   "execution_count": 9,
   "id": "e3baaa85",
   "metadata": {
    "execution": {
     "iopub.execute_input": "2023-04-15T16:02:02.703645Z",
     "iopub.status.busy": "2023-04-15T16:02:02.703184Z",
     "iopub.status.idle": "2023-04-15T16:02:02.710688Z",
     "shell.execute_reply": "2023-04-15T16:02:02.708746Z"
    },
    "papermill": {
     "duration": 0.016353,
     "end_time": "2023-04-15T16:02:02.713565",
     "exception": false,
     "start_time": "2023-04-15T16:02:02.697212",
     "status": "completed"
    },
    "tags": []
   },
   "outputs": [
    {
     "name": "stdout",
     "output_type": "stream",
     "text": [
      "The target is: \n",
      " ['no' 'yes' 'no' 'yes' 'yes']\n"
     ]
    }
   ],
   "source": [
    "target = np.array(data)[:,-1]\n",
    "print(\"The target is: \\n\",target)"
   ]
  },
  {
   "cell_type": "code",
   "execution_count": 10,
   "id": "b86d3575",
   "metadata": {
    "execution": {
     "iopub.execute_input": "2023-04-15T16:02:02.724371Z",
     "iopub.status.busy": "2023-04-15T16:02:02.723953Z",
     "iopub.status.idle": "2023-04-15T16:02:02.729898Z",
     "shell.execute_reply": "2023-04-15T16:02:02.728596Z"
    },
    "papermill": {
     "duration": 0.014834,
     "end_time": "2023-04-15T16:02:02.732902",
     "exception": false,
     "start_time": "2023-04-15T16:02:02.718068",
     "status": "completed"
    },
    "tags": []
   },
   "outputs": [
    {
     "name": "stdout",
     "output_type": "stream",
     "text": [
      "The final hypothesis is: ['many' '?' 'no' '?' '?']\n"
     ]
    }
   ],
   "source": [
    "print(\"The final hypothesis is:\",findS(d,target))"
   ]
  }
 ],
 "metadata": {
  "kernelspec": {
   "display_name": "Python 3",
   "language": "python",
   "name": "python3"
  },
  "language_info": {
   "codemirror_mode": {
    "name": "ipython",
    "version": 3
   },
   "file_extension": ".py",
   "mimetype": "text/x-python",
   "name": "python",
   "nbconvert_exporter": "python",
   "pygments_lexer": "ipython3",
   "version": "3.7.12"
  },
  "papermill": {
   "default_parameters": {},
   "duration": 12.048397,
   "end_time": "2023-04-15T16:02:03.460688",
   "environment_variables": {},
   "exception": null,
   "input_path": "__notebook__.ipynb",
   "output_path": "__notebook__.ipynb",
   "parameters": {},
   "start_time": "2023-04-15T16:01:51.412291",
   "version": "2.4.0"
  }
 },
 "nbformat": 4,
 "nbformat_minor": 5
}
