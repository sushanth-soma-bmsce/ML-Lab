{
 "cells": [
  {
   "cell_type": "markdown",
   "id": "94ea8887",
   "metadata": {
    "papermill": {
     "duration": 0.002383,
     "end_time": "2023-06-10T05:07:02.462226",
     "exception": false,
     "start_time": "2023-06-10T05:07:02.459843",
     "status": "completed"
    },
    "tags": []
   },
   "source": [
    "**LWR - Built-in Libraries**"
   ]
  },
  {
   "cell_type": "code",
   "execution_count": 1,
   "id": "06c5f4ac",
   "metadata": {
    "execution": {
     "iopub.execute_input": "2023-06-10T05:07:02.467992Z",
     "iopub.status.busy": "2023-06-10T05:07:02.467601Z",
     "iopub.status.idle": "2023-06-10T05:07:03.533612Z",
     "shell.execute_reply": "2023-06-10T05:07:03.532132Z"
    },
    "papermill": {
     "duration": 1.071949,
     "end_time": "2023-06-10T05:07:03.536279",
     "exception": false,
     "start_time": "2023-06-10T05:07:02.464330",
     "status": "completed"
    },
    "tags": []
   },
   "outputs": [
    {
     "name": "stdout",
     "output_type": "stream",
     "text": [
      "The Data Set ( 10 Samples) X :\n",
      " [-2.99399399 -2.98798799 -2.98198198 -2.97597598 -2.96996997 -2.96396396\n",
      " -2.95795796 -2.95195195 -2.94594595]\n",
      "The Fitting Curve Data Set (10 Samples) Y :\n",
      " [2.13582188 2.13156806 2.12730467 2.12303166 2.11874898 2.11445659\n",
      " 2.11015444 2.10584249 2.10152068]\n",
      "Normalised (10 Samples) X :\n",
      " [-3.11216743 -3.04237702 -2.87207489 -3.06231933 -3.0124214  -2.99826669\n",
      " -2.98706874 -3.0501563  -2.93887645]\n",
      " Xo Domain Space(10 Samples) :\n",
      " [-2.97993311 -2.95986622 -2.93979933 -2.91973244 -2.89966555 -2.87959866\n",
      " -2.85953177 -2.83946488 -2.81939799]\n"
     ]
    }
   ],
   "source": [
    "import numpy as np\n",
    "from bokeh.plotting import figure, show, output_notebook\n",
    "from bokeh.layouts import gridplot\n",
    "from bokeh.io import push_notebook\n",
    "\n",
    "def local_regression(x0, X, Y, tau):# add bias term\n",
    " x0 = np.r_[1, x0] # Add one to avoid the loss in information\n",
    " X = np.c_[np.ones(len(X)), X]\n",
    "\n",
    " # fit model: normal equations with kernel\n",
    " xw = X.T * radial_kernel(x0, X, tau) # XTranspose * W\n",
    "\n",
    " beta = np.linalg.pinv(xw @ X) @ xw @ Y #@ Matrix Multiplication or Dot Product\n",
    "\n",
    "\n",
    " # predict value\n",
    " return x0 @ beta # @ Matrix Multiplication or Dot Product for prediction\n",
    "def radial_kernel(x0, X, tau):\n",
    " return np.exp(np.sum((X - x0) ** 2, axis=1) / (-2 * tau * tau))\n",
    "# Weight or Radial Kernal Bias Function\n",
    "\n",
    "n = 1000\n",
    "# generate dataset\n",
    "X = np.linspace(-3, 3, num=n)\n",
    "print(\"The Data Set ( 10 Samples) X :\\n\",X[1:10])\n",
    "Y = np.log(np.abs(X ** 2 - 1) + .5)\n",
    "print(\"The Fitting Curve Data Set (10 Samples) Y :\\n\",Y[1:10])\n",
    "# jitter X\n",
    "X += np.random.normal(scale=.1, size=n)\n",
    "print(\"Normalised (10 Samples) X :\\n\",X[1:10])\n",
    "\n",
    "domain = np.linspace(-3, 3, num=300)\n",
    "print(\" Xo Domain Space(10 Samples) :\\n\",domain[1:10])\n",
    "\n",
    "def plot_lwr(tau):\n",
    " # prediction through regression\n",
    " prediction = [local_regression(x0, X, Y, tau) for x0 in domain]\n",
    " plot = figure(plot_width=400, plot_height=400)\n",
    " plot.title.text='tau=%g' % tau\n",
    " plot.scatter(X, Y, alpha=.3)\n",
    " plot.line(domain, prediction, line_width=2, color='red')\n",
    " return plot\n",
    "\n",
    "show(gridplot([\n",
    " [plot_lwr(10.), plot_lwr(1.)],\n",
    " [plot_lwr(0.1), plot_lwr(0.01)]]))"
   ]
  },
  {
   "cell_type": "markdown",
   "id": "948027ba",
   "metadata": {
    "papermill": {
     "duration": 0.001762,
     "end_time": "2023-06-10T05:07:03.540212",
     "exception": false,
     "start_time": "2023-06-10T05:07:03.538450",
     "status": "completed"
    },
    "tags": []
   },
   "source": [
    "**LWR without Built-in Libraries**"
   ]
  },
  {
   "cell_type": "code",
   "execution_count": 2,
   "id": "47eb7c25",
   "metadata": {
    "execution": {
     "iopub.execute_input": "2023-06-10T05:07:03.546098Z",
     "iopub.status.busy": "2023-06-10T05:07:03.545065Z",
     "iopub.status.idle": "2023-06-10T05:07:06.003914Z",
     "shell.execute_reply": "2023-06-10T05:07:06.003102Z"
    },
    "papermill": {
     "duration": 2.463901,
     "end_time": "2023-06-10T05:07:06.005963",
     "exception": false,
     "start_time": "2023-06-10T05:07:03.542062",
     "status": "completed"
    },
    "tags": []
   },
   "outputs": [
    {
     "data": {
      "image/png": "[encoded data removed]",
      "text/plain": [
       "<Figure size 640x480 with 1 Axes>"
      ]
     },
     "metadata": {},
     "output_type": "display_data"
    }
   ],
   "source": [
    "import matplotlib.pyplot as plt \n",
    "import pandas as pd\n",
    "import numpy as np\n",
    "\n",
    "def kernel(point,xmat, k): \n",
    "    m,n = np.shape(xmat)\n",
    "    weights = np.mat(np.eye((m))) # eye - identity matrix \n",
    "    for j in range(m):\n",
    "        diff = point - X[j]\n",
    "        weights[j,j] = np.exp(diff*diff.T/(-2.0*k**2)) \n",
    "    return weights\n",
    "\n",
    "def localWeight(point,xmat,ymat,k): \n",
    "    wei = kernel(point,xmat,k)\n",
    "    W = (X.T*(wei*X)).I*(X.T*(wei*ymat.T)) \n",
    "    return W\n",
    "\n",
    "def localWeightRegression(xmat,ymat,k): \n",
    "    m,n = np.shape(xmat)\n",
    "    ypred = np.zeros(m) \n",
    "    for i in range(m):\n",
    "        ypred[i] = xmat[i]*localWeight(xmat[i],xmat,ymat,k) \n",
    "    return ypred\n",
    "\n",
    "def graphPlot(X,ypred):\n",
    "    sortindex = X[:,1].argsort(0) #argsort - index of the smallest \n",
    "    xsort = X[sortindex][:,0]\n",
    "    fig = plt.figure()\n",
    "    ax = fig.add_subplot(1,1,1) \n",
    "    ax.scatter(bill,tip, color='green')\n",
    "    ax.plot(xsort[:,1],ypred[sortindex], color = 'red', linewidth=5) \n",
    "    plt.xlabel('Total bill')\n",
    "    plt.ylabel('Tip') \n",
    "    plt.show();\n",
    "\n",
    "# load data points\n",
    "data = pd.read_csv('/kaggle/input/tipping/tips.csv')\n",
    "bill = np.array(data.total_bill) # We use only Bill amount and Tips data \n",
    "tip = np.array(data.tip)\n",
    "\n",
    "mbill = np.mat(bill) # .mat will convert nd array is converted in 2D array \n",
    "mtip = np.mat(tip)\n",
    "m= np.shape(mbill)[1] \n",
    "one = np.mat(np.ones(m))\n",
    "X = np.hstack((one.T,mbill.T)) # 244 rows, 2 cols\n",
    "\n",
    "# increase k to get smooth curves\n",
    "ypred = localWeightRegression(X,mtip,3) \n",
    "graphPlot(X,ypred)"
   ]
  }
 ],
 "metadata": {
  "kernelspec": {
   "display_name": "Python 3",
   "language": "python",
   "name": "python3"
  },
  "language_info": {
   "codemirror_mode": {
    "name": "ipython",
    "version": 3
   },
   "file_extension": ".py",
   "mimetype": "text/x-python",
   "name": "python",
   "nbconvert_exporter": "python",
   "pygments_lexer": "ipython3",
   "version": "3.10.10"
  },
  "papermill": {
   "default_parameters": {},
   "duration": 14.183043,
   "end_time": "2023-06-10T05:07:06.930287",
   "environment_variables": {},
   "exception": null,
   "input_path": "__notebook__.ipynb",
   "output_path": "__notebook__.ipynb",
   "parameters": {},
   "start_time": "2023-06-10T05:06:52.747244",
   "version": "2.4.0"
  }
 },
 "nbformat": 4,
 "nbformat_minor": 5
}
