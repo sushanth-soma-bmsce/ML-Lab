{
 "cells": [
  {
   "cell_type": "code",
   "execution_count": 1,
   "id": "00493a8d",
   "metadata": {
    "_cell_guid": "b1076dfc-b9ad-4769-8c92-a6c4dae69d19",
    "_uuid": "8f2839f25d086af736a60e9eeb907d3b93b6e0e5",
    "execution": {
     "iopub.execute_input": "2023-04-15T16:08:53.106751Z",
     "iopub.status.busy": "2023-04-15T16:08:53.106364Z",
     "iopub.status.idle": "2023-04-15T16:08:53.125353Z",
     "shell.execute_reply": "2023-04-15T16:08:53.124673Z"
    },
    "papermill": {
     "duration": 0.027234,
     "end_time": "2023-04-15T16:08:53.127582",
     "exception": false,
     "start_time": "2023-04-15T16:08:53.100348",
     "status": "completed"
    },
    "tags": []
   },
   "outputs": [
    {
     "name": "stdout",
     "output_type": "stream",
     "text": [
      "/kaggle/input/enjoysport/ENJOYSPORT.csv\n",
      "/kaggle/input/purchase/purchase.csv\n"
     ]
    }
   ],
   "source": [
    "import numpy as np \n",
    "import pandas as pd\n",
    "\n",
    "\n",
    "import os\n",
    "for dirname, _, filenames in os.walk('/kaggle/input'):\n",
    "    for filename in filenames:\n",
    "        print(os.path.join(dirname, filename))"
   ]
  },
  {
   "cell_type": "markdown",
   "id": "57a04011",
   "metadata": {
    "papermill": {
     "duration": 0.003188,
     "end_time": "2023-04-15T16:08:53.134648",
     "exception": false,
     "start_time": "2023-04-15T16:08:53.131460",
     "status": "completed"
    },
    "tags": []
   },
   "source": [
    "FIRST DATASET : Enjoysport Dataset"
   ]
  },
  {
   "cell_type": "code",
   "execution_count": 2,
   "id": "2c282b59",
   "metadata": {
    "execution": {
     "iopub.execute_input": "2023-04-15T16:08:53.143854Z",
     "iopub.status.busy": "2023-04-15T16:08:53.142563Z",
     "iopub.status.idle": "2023-04-15T16:08:53.168201Z",
     "shell.execute_reply": "2023-04-15T16:08:53.166934Z"
    },
    "papermill": {
     "duration": 0.032086,
     "end_time": "2023-04-15T16:08:53.170165",
     "exception": false,
     "start_time": "2023-04-15T16:08:53.138079",
     "status": "completed"
    },
    "tags": []
   },
   "outputs": [
    {
     "name": "stdout",
     "output_type": "stream",
     "text": [
      "     Sky AirTemp Humidity    Wind Water Forecast  EnjoySport\n",
      "0  Sunny    Warm   Normal  Strong  Warm     Same           1\n",
      "1  Sunny    Warm     High  Strong  Warm     Same           1\n",
      "2  Rainy    Cold     High  Strong  Warm   Change           0\n",
      "3  Sunny    Warm     High  Strong  Cool   Change           1\n"
     ]
    }
   ],
   "source": [
    "data=pd.read_csv('/kaggle/input/enjoysport/ENJOYSPORT.csv')\n",
    "print(data)"
   ]
  },
  {
   "cell_type": "code",
   "execution_count": 3,
   "id": "3bb954df",
   "metadata": {
    "execution": {
     "iopub.execute_input": "2023-04-15T16:08:53.178994Z",
     "iopub.status.busy": "2023-04-15T16:08:53.178618Z",
     "iopub.status.idle": "2023-04-15T16:08:53.186386Z",
     "shell.execute_reply": "2023-04-15T16:08:53.185010Z"
    },
    "papermill": {
     "duration": 0.014276,
     "end_time": "2023-04-15T16:08:53.188361",
     "exception": false,
     "start_time": "2023-04-15T16:08:53.174085",
     "status": "completed"
    },
    "tags": []
   },
   "outputs": [
    {
     "name": "stdout",
     "output_type": "stream",
     "text": [
      "The attributes are:\n",
      " [['Sunny' 'Warm' 'Normal' 'Strong' 'Warm' 'Same']\n",
      " ['Sunny' 'Warm' 'High' 'Strong' 'Warm' 'Same']\n",
      " ['Rainy' 'Cold' 'High' 'Strong' 'Warm' 'Change']\n",
      " ['Sunny' 'Warm' 'High' 'Strong' 'Cool' 'Change']]\n"
     ]
    }
   ],
   "source": [
    "concepts = np.array(data.iloc[:,0:-1])\n",
    "print(\"The attributes are:\\n\",concepts)"
   ]
  },
  {
   "cell_type": "code",
   "execution_count": 4,
   "id": "d22f1a8f",
   "metadata": {
    "execution": {
     "iopub.execute_input": "2023-04-15T16:08:53.197410Z",
     "iopub.status.busy": "2023-04-15T16:08:53.196866Z",
     "iopub.status.idle": "2023-04-15T16:08:53.203035Z",
     "shell.execute_reply": "2023-04-15T16:08:53.201501Z"
    },
    "papermill": {
     "duration": 0.013186,
     "end_time": "2023-04-15T16:08:53.205326",
     "exception": false,
     "start_time": "2023-04-15T16:08:53.192140",
     "status": "completed"
    },
    "tags": []
   },
   "outputs": [
    {
     "name": "stdout",
     "output_type": "stream",
     "text": [
      "\n",
      " The target is:\n",
      " [1 1 0 1]\n"
     ]
    }
   ],
   "source": [
    "target = np.array(data.iloc[:,-1])\n",
    "print(\"\\n The target is:\\n\",target)"
   ]
  },
  {
   "cell_type": "code",
   "execution_count": 5,
   "id": "ea985971",
   "metadata": {
    "execution": {
     "iopub.execute_input": "2023-04-15T16:08:53.215234Z",
     "iopub.status.busy": "2023-04-15T16:08:53.214890Z",
     "iopub.status.idle": "2023-04-15T16:08:53.229905Z",
     "shell.execute_reply": "2023-04-15T16:08:53.228721Z"
    },
    "papermill": {
     "duration": 0.022677,
     "end_time": "2023-04-15T16:08:53.232562",
     "exception": false,
     "start_time": "2023-04-15T16:08:53.209885",
     "status": "completed"
    },
    "tags": []
   },
   "outputs": [],
   "source": [
    "def learn(concepts, target):\n",
    "    specific_h = concepts[0].copy()\n",
    "    print(\"\\n Initialization of specific_h and general_h\")\n",
    "    print(specific_h)\n",
    "    general_h = [[\"?\" for i in range(len(specific_h))] for i in range(len(specific_h))]\n",
    "    print(general_h)\n",
    "    for i,h in enumerate(concepts):\n",
    "        if target[i] == 1 or target[i] == 'yes':\n",
    "            for x in range(len(specific_h)):\n",
    "                if h[x]!= specific_h[x]:\n",
    "                    specific_h[x] ='?'\n",
    "                    general_h[x][x] ='?'\n",
    "                print(specific_h)\n",
    "            print(specific_h)\n",
    "        if target[i] == 0:\n",
    "            for x in range(len(specific_h)):\n",
    "                if h[x]!= specific_h[x]:\n",
    "                    general_h[x][x] = specific_h[x]\n",
    "                else:\n",
    "                    general_h[x][x] = '?'\n",
    "        print(\"\\n Steps of Candidate Elimination Algorithm\",i+1)\n",
    "        print(specific_h)\n",
    "        print(general_h)\n",
    "    indices = [i for i, val in enumerate(general_h) if val == ['?', '?', '?', '?', '?', '?']]\n",
    "    for i in indices:\n",
    "        general_h.remove(['?', '?', '?', '?', '?', '?'])\n",
    "    return specific_h, general_h"
   ]
  },
  {
   "cell_type": "code",
   "execution_count": 6,
   "id": "70977ff4",
   "metadata": {
    "execution": {
     "iopub.execute_input": "2023-04-15T16:08:53.243191Z",
     "iopub.status.busy": "2023-04-15T16:08:53.242528Z",
     "iopub.status.idle": "2023-04-15T16:08:53.251206Z",
     "shell.execute_reply": "2023-04-15T16:08:53.248808Z"
    },
    "papermill": {
     "duration": 0.017148,
     "end_time": "2023-04-15T16:08:53.253905",
     "exception": false,
     "start_time": "2023-04-15T16:08:53.236757",
     "status": "completed"
    },
    "tags": []
   },
   "outputs": [
    {
     "name": "stdout",
     "output_type": "stream",
     "text": [
      "\n",
      " Initialization of specific_h and general_h\n",
      "['Sunny' 'Warm' 'Normal' 'Strong' 'Warm' 'Same']\n",
      "[['?', '?', '?', '?', '?', '?'], ['?', '?', '?', '?', '?', '?'], ['?', '?', '?', '?', '?', '?'], ['?', '?', '?', '?', '?', '?'], ['?', '?', '?', '?', '?', '?'], ['?', '?', '?', '?', '?', '?']]\n",
      "['Sunny' 'Warm' 'Normal' 'Strong' 'Warm' 'Same']\n",
      "['Sunny' 'Warm' 'Normal' 'Strong' 'Warm' 'Same']\n",
      "['Sunny' 'Warm' 'Normal' 'Strong' 'Warm' 'Same']\n",
      "['Sunny' 'Warm' 'Normal' 'Strong' 'Warm' 'Same']\n",
      "['Sunny' 'Warm' 'Normal' 'Strong' 'Warm' 'Same']\n",
      "['Sunny' 'Warm' 'Normal' 'Strong' 'Warm' 'Same']\n",
      "['Sunny' 'Warm' 'Normal' 'Strong' 'Warm' 'Same']\n",
      "\n",
      " Steps of Candidate Elimination Algorithm 1\n",
      "['Sunny' 'Warm' 'Normal' 'Strong' 'Warm' 'Same']\n",
      "[['?', '?', '?', '?', '?', '?'], ['?', '?', '?', '?', '?', '?'], ['?', '?', '?', '?', '?', '?'], ['?', '?', '?', '?', '?', '?'], ['?', '?', '?', '?', '?', '?'], ['?', '?', '?', '?', '?', '?']]\n",
      "['Sunny' 'Warm' 'Normal' 'Strong' 'Warm' 'Same']\n",
      "['Sunny' 'Warm' 'Normal' 'Strong' 'Warm' 'Same']\n",
      "['Sunny' 'Warm' '?' 'Strong' 'Warm' 'Same']\n",
      "['Sunny' 'Warm' '?' 'Strong' 'Warm' 'Same']\n",
      "['Sunny' 'Warm' '?' 'Strong' 'Warm' 'Same']\n",
      "['Sunny' 'Warm' '?' 'Strong' 'Warm' 'Same']\n",
      "['Sunny' 'Warm' '?' 'Strong' 'Warm' 'Same']\n",
      "\n",
      " Steps of Candidate Elimination Algorithm 2\n",
      "['Sunny' 'Warm' '?' 'Strong' 'Warm' 'Same']\n",
      "[['?', '?', '?', '?', '?', '?'], ['?', '?', '?', '?', '?', '?'], ['?', '?', '?', '?', '?', '?'], ['?', '?', '?', '?', '?', '?'], ['?', '?', '?', '?', '?', '?'], ['?', '?', '?', '?', '?', '?']]\n",
      "\n",
      " Steps of Candidate Elimination Algorithm 3\n",
      "['Sunny' 'Warm' '?' 'Strong' 'Warm' 'Same']\n",
      "[['Sunny', '?', '?', '?', '?', '?'], ['?', 'Warm', '?', '?', '?', '?'], ['?', '?', '?', '?', '?', '?'], ['?', '?', '?', '?', '?', '?'], ['?', '?', '?', '?', '?', '?'], ['?', '?', '?', '?', '?', 'Same']]\n",
      "['Sunny' 'Warm' '?' 'Strong' 'Warm' 'Same']\n",
      "['Sunny' 'Warm' '?' 'Strong' 'Warm' 'Same']\n",
      "['Sunny' 'Warm' '?' 'Strong' 'Warm' 'Same']\n",
      "['Sunny' 'Warm' '?' 'Strong' 'Warm' 'Same']\n",
      "['Sunny' 'Warm' '?' 'Strong' '?' 'Same']\n",
      "['Sunny' 'Warm' '?' 'Strong' '?' '?']\n",
      "['Sunny' 'Warm' '?' 'Strong' '?' '?']\n",
      "\n",
      " Steps of Candidate Elimination Algorithm 4\n",
      "['Sunny' 'Warm' '?' 'Strong' '?' '?']\n",
      "[['Sunny', '?', '?', '?', '?', '?'], ['?', 'Warm', '?', '?', '?', '?'], ['?', '?', '?', '?', '?', '?'], ['?', '?', '?', '?', '?', '?'], ['?', '?', '?', '?', '?', '?'], ['?', '?', '?', '?', '?', '?']]\n"
     ]
    }
   ],
   "source": [
    "s_final, g_final = learn(concepts, target)"
   ]
  },
  {
   "cell_type": "code",
   "execution_count": 7,
   "id": "62e8e169",
   "metadata": {
    "execution": {
     "iopub.execute_input": "2023-04-15T16:08:53.263870Z",
     "iopub.status.busy": "2023-04-15T16:08:53.263266Z",
     "iopub.status.idle": "2023-04-15T16:08:53.269172Z",
     "shell.execute_reply": "2023-04-15T16:08:53.267762Z"
    },
    "papermill": {
     "duration": 0.013057,
     "end_time": "2023-04-15T16:08:53.271378",
     "exception": false,
     "start_time": "2023-04-15T16:08:53.258321",
     "status": "completed"
    },
    "tags": []
   },
   "outputs": [
    {
     "name": "stdout",
     "output_type": "stream",
     "text": [
      "\n",
      "Final Specific_h:\n",
      "['Sunny' 'Warm' '?' 'Strong' '?' '?']\n",
      "\n",
      "Final General_h:\n",
      "[['Sunny', '?', '?', '?', '?', '?'], ['?', 'Warm', '?', '?', '?', '?']]\n"
     ]
    }
   ],
   "source": [
    "print(\"\\nFinal Specific_h:\", s_final, sep=\"\\n\")\n",
    "print(\"\\nFinal General_h:\", g_final, sep=\"\\n\")"
   ]
  },
  {
   "cell_type": "markdown",
   "id": "37b8cd57",
   "metadata": {
    "papermill": {
     "duration": 0.003564,
     "end_time": "2023-04-15T16:08:53.279047",
     "exception": false,
     "start_time": "2023-04-15T16:08:53.275483",
     "status": "completed"
    },
    "tags": []
   },
   "source": [
    "SECOND DATASET : Purchase Dataset"
   ]
  },
  {
   "cell_type": "code",
   "execution_count": 8,
   "id": "53789713",
   "metadata": {
    "execution": {
     "iopub.execute_input": "2023-04-15T16:08:53.288492Z",
     "iopub.status.busy": "2023-04-15T16:08:53.287930Z",
     "iopub.status.idle": "2023-04-15T16:08:53.301193Z",
     "shell.execute_reply": "2023-04-15T16:08:53.300414Z"
    },
    "papermill": {
     "duration": 0.020642,
     "end_time": "2023-04-15T16:08:53.303470",
     "exception": false,
     "start_time": "2023-04-15T16:08:53.282828",
     "status": "completed"
    },
    "tags": []
   },
   "outputs": [
    {
     "name": "stdout",
     "output_type": "stream",
     "text": [
      "  citations    size inLibrary       price editions  buy\n",
      "0      some   small        no  affordable     many   no\n",
      "1      many     big        no   expensive      one  yes\n",
      "2      some     big    always   expensive      few   no\n",
      "3      many  medium        no   expensive     many  yes\n",
      "4      many   small        no  affordable     many  yes\n"
     ]
    }
   ],
   "source": [
    "data=pd.read_csv('/kaggle/input/purchase/purchase.csv')\n",
    "print(data)"
   ]
  },
  {
   "cell_type": "code",
   "execution_count": 9,
   "id": "0931dc1b",
   "metadata": {
    "execution": {
     "iopub.execute_input": "2023-04-15T16:08:53.312838Z",
     "iopub.status.busy": "2023-04-15T16:08:53.312443Z",
     "iopub.status.idle": "2023-04-15T16:08:53.318303Z",
     "shell.execute_reply": "2023-04-15T16:08:53.317181Z"
    },
    "papermill": {
     "duration": 0.013379,
     "end_time": "2023-04-15T16:08:53.320916",
     "exception": false,
     "start_time": "2023-04-15T16:08:53.307537",
     "status": "completed"
    },
    "tags": []
   },
   "outputs": [
    {
     "name": "stdout",
     "output_type": "stream",
     "text": [
      "The attributes are:\n",
      " [['some' 'small' 'no' 'affordable' 'many']\n",
      " ['many' 'big' 'no' 'expensive' 'one']\n",
      " ['some' 'big' 'always' 'expensive' 'few']\n",
      " ['many' 'medium' 'no' 'expensive' 'many']\n",
      " ['many' 'small' 'no' 'affordable' 'many']]\n"
     ]
    }
   ],
   "source": [
    "concepts = np.array(data.iloc[:,0:-1])\n",
    "print(\"The attributes are:\\n\",concepts)"
   ]
  },
  {
   "cell_type": "code",
   "execution_count": 10,
   "id": "94f6258b",
   "metadata": {
    "execution": {
     "iopub.execute_input": "2023-04-15T16:08:53.330624Z",
     "iopub.status.busy": "2023-04-15T16:08:53.330276Z",
     "iopub.status.idle": "2023-04-15T16:08:53.336893Z",
     "shell.execute_reply": "2023-04-15T16:08:53.335522Z"
    },
    "papermill": {
     "duration": 0.013717,
     "end_time": "2023-04-15T16:08:53.338957",
     "exception": false,
     "start_time": "2023-04-15T16:08:53.325240",
     "status": "completed"
    },
    "tags": []
   },
   "outputs": [
    {
     "name": "stdout",
     "output_type": "stream",
     "text": [
      "\n",
      " The target is:\n",
      " ['no' 'yes' 'no' 'yes' 'yes']\n"
     ]
    }
   ],
   "source": [
    "target = np.array(data.iloc[:,-1])\n",
    "print(\"\\n The target is:\\n\",target)"
   ]
  },
  {
   "cell_type": "code",
   "execution_count": 11,
   "id": "78f58a35",
   "metadata": {
    "execution": {
     "iopub.execute_input": "2023-04-15T16:08:53.348567Z",
     "iopub.status.busy": "2023-04-15T16:08:53.347951Z",
     "iopub.status.idle": "2023-04-15T16:08:53.354318Z",
     "shell.execute_reply": "2023-04-15T16:08:53.353203Z"
    },
    "papermill": {
     "duration": 0.013097,
     "end_time": "2023-04-15T16:08:53.356080",
     "exception": false,
     "start_time": "2023-04-15T16:08:53.342983",
     "status": "completed"
    },
    "tags": []
   },
   "outputs": [
    {
     "name": "stdout",
     "output_type": "stream",
     "text": [
      "\n",
      " Initialization of specific_h and general_h\n",
      "['some' 'small' 'no' 'affordable' 'many']\n",
      "[['?', '?', '?', '?', '?'], ['?', '?', '?', '?', '?'], ['?', '?', '?', '?', '?'], ['?', '?', '?', '?', '?'], ['?', '?', '?', '?', '?']]\n",
      "\n",
      " Steps of Candidate Elimination Algorithm 1\n",
      "['some' 'small' 'no' 'affordable' 'many']\n",
      "[['?', '?', '?', '?', '?'], ['?', '?', '?', '?', '?'], ['?', '?', '?', '?', '?'], ['?', '?', '?', '?', '?'], ['?', '?', '?', '?', '?']]\n",
      "['?' 'small' 'no' 'affordable' 'many']\n",
      "['?' '?' 'no' 'affordable' 'many']\n",
      "['?' '?' 'no' 'affordable' 'many']\n",
      "['?' '?' 'no' '?' 'many']\n",
      "['?' '?' 'no' '?' '?']\n",
      "['?' '?' 'no' '?' '?']\n",
      "\n",
      " Steps of Candidate Elimination Algorithm 2\n",
      "['?' '?' 'no' '?' '?']\n",
      "[['?', '?', '?', '?', '?'], ['?', '?', '?', '?', '?'], ['?', '?', '?', '?', '?'], ['?', '?', '?', '?', '?'], ['?', '?', '?', '?', '?']]\n",
      "\n",
      " Steps of Candidate Elimination Algorithm 3\n",
      "['?' '?' 'no' '?' '?']\n",
      "[['?', '?', '?', '?', '?'], ['?', '?', '?', '?', '?'], ['?', '?', '?', '?', '?'], ['?', '?', '?', '?', '?'], ['?', '?', '?', '?', '?']]\n",
      "['?' '?' 'no' '?' '?']\n",
      "['?' '?' 'no' '?' '?']\n",
      "['?' '?' 'no' '?' '?']\n",
      "['?' '?' 'no' '?' '?']\n",
      "['?' '?' 'no' '?' '?']\n",
      "['?' '?' 'no' '?' '?']\n",
      "\n",
      " Steps of Candidate Elimination Algorithm 4\n",
      "['?' '?' 'no' '?' '?']\n",
      "[['?', '?', '?', '?', '?'], ['?', '?', '?', '?', '?'], ['?', '?', '?', '?', '?'], ['?', '?', '?', '?', '?'], ['?', '?', '?', '?', '?']]\n",
      "['?' '?' 'no' '?' '?']\n",
      "['?' '?' 'no' '?' '?']\n",
      "['?' '?' 'no' '?' '?']\n",
      "['?' '?' 'no' '?' '?']\n",
      "['?' '?' 'no' '?' '?']\n",
      "['?' '?' 'no' '?' '?']\n",
      "\n",
      " Steps of Candidate Elimination Algorithm 5\n",
      "['?' '?' 'no' '?' '?']\n",
      "[['?', '?', '?', '?', '?'], ['?', '?', '?', '?', '?'], ['?', '?', '?', '?', '?'], ['?', '?', '?', '?', '?'], ['?', '?', '?', '?', '?']]\n"
     ]
    }
   ],
   "source": [
    "s_final, g_final = learn(concepts, target)"
   ]
  },
  {
   "cell_type": "code",
   "execution_count": 12,
   "id": "0d90ef99",
   "metadata": {
    "execution": {
     "iopub.execute_input": "2023-04-15T16:08:53.365463Z",
     "iopub.status.busy": "2023-04-15T16:08:53.365159Z",
     "iopub.status.idle": "2023-04-15T16:08:53.369863Z",
     "shell.execute_reply": "2023-04-15T16:08:53.368912Z"
    },
    "papermill": {
     "duration": 0.012216,
     "end_time": "2023-04-15T16:08:53.372241",
     "exception": false,
     "start_time": "2023-04-15T16:08:53.360025",
     "status": "completed"
    },
    "tags": []
   },
   "outputs": [
    {
     "name": "stdout",
     "output_type": "stream",
     "text": [
      "\n",
      "Final Specific_h:\n",
      "['?' '?' 'no' '?' '?']\n",
      "\n",
      "Final General_h:\n",
      "[['?', '?', '?', '?', '?'], ['?', '?', '?', '?', '?'], ['?', '?', '?', '?', '?'], ['?', '?', '?', '?', '?'], ['?', '?', '?', '?', '?']]\n"
     ]
    }
   ],
   "source": [
    "print(\"\\nFinal Specific_h:\", s_final, sep=\"\\n\")\n",
    "print(\"\\nFinal General_h:\", g_final, sep=\"\\n\")"
   ]
  }
 ],
 "metadata": {
  "kernelspec": {
   "display_name": "Python 3",
   "language": "python",
   "name": "python3"
  },
  "language_info": {
   "codemirror_mode": {
    "name": "ipython",
    "version": 3
   },
   "file_extension": ".py",
   "mimetype": "text/x-python",
   "name": "python",
   "nbconvert_exporter": "python",
   "pygments_lexer": "ipython3",
   "version": "3.7.12"
  },
  "papermill": {
   "default_parameters": {},
   "duration": 9.795418,
   "end_time": "2023-04-15T16:08:53.995322",
   "environment_variables": {},
   "exception": null,
   "input_path": "__notebook__.ipynb",
   "output_path": "__notebook__.ipynb",
   "parameters": {},
   "start_time": "2023-04-15T16:08:44.199904",
   "version": "2.4.0"
  }
 },
 "nbformat": 4,
 "nbformat_minor": 5
}
